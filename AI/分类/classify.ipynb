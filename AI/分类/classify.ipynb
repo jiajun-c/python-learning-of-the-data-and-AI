{
 "cells": [
  {
   "cell_type": "code",
   "execution_count": null,
   "id": "1a9a672a",
   "metadata": {},
   "outputs": [],
   "source": [
    "import numpy as np\n",
    "import pandas as pd\n",
    "from matplotlib import pyplot as plt\n",
    "import seaborn as sns"
   ]
  },
  {
   "cell_type": "code",
   "execution_count": null,
   "id": "493c3d74",
   "metadata": {},
   "outputs": [],
   "source": [
    "data = pd.read_csv(\"./Social_Network_Ads.csv\")"
   ]
  },
  {
   "cell_type": "code",
   "execution_count": null,
   "id": "5bd89c83",
   "metadata": {},
   "outputs": [],
   "source": [
    "data.head()"
   ]
  },
  {
   "cell_type": "markdown",
   "id": "7035a1ab",
   "metadata": {},
   "source": [
    "Get some sample data"
   ]
  },
  {
   "cell_type": "code",
   "execution_count": null,
   "id": "a101687d",
   "metadata": {},
   "outputs": [],
   "source": [
    "change = {'Male':0, 'Female':1}\n",
    "data.replace(change,inplace = True)"
   ]
  },
  {
   "cell_type": "markdown",
   "id": "6c714b95",
   "metadata": {},
   "source": [
    "change the gender to the number"
   ]
  },
  {
   "cell_type": "code",
   "execution_count": null,
   "id": "c9fcdbf2",
   "metadata": {},
   "outputs": [],
   "source": [
    "Age_situation = sns.boxplot(x = data['Age'])"
   ]
  },
  {
   "cell_type": "markdown",
   "id": "ddd83353",
   "metadata": {},
   "source": [
    "We can see the that there are no outliers in the Age "
   ]
  },
  {
   "cell_type": "code",
   "execution_count": null,
   "id": "5dc227a0",
   "metadata": {},
   "outputs": [],
   "source": [
    "Salary_situation= sns.boxplot(x=data['EstimatedSalary'])"
   ]
  },
  {
   "cell_type": "markdown",
   "id": "641db69f",
   "metadata": {},
   "source": [
    "The same with salary,so we do not need to make extra operation.\n"
   ]
  },
  {
   "cell_type": "code",
   "execution_count": null,
   "id": "df46462a",
   "metadata": {},
   "outputs": [],
   "source": [
    "zero_index = data[data['Purchased'].isin([0])].index"
   ]
  },
  {
   "cell_type": "code",
   "execution_count": null,
   "id": "c7361ca2",
   "metadata": {},
   "outputs": [],
   "source": [
    "zero_index"
   ]
  },
  {
   "cell_type": "code",
   "execution_count": null,
   "id": "765e65ce",
   "metadata": {},
   "outputs": [],
   "source": [
    "one_index = data[data['Purchased'].isin([1])].index\n",
    "one_index"
   ]
  },
  {
   "cell_type": "markdown",
   "id": "2700691c",
   "metadata": {},
   "source": [
    "Now we can see the classify"
   ]
  },
  {
   "cell_type": "code",
   "execution_count": null,
   "id": "ff351fd8",
   "metadata": {},
   "outputs": [],
   "source": [
    "# indexes for purchased\n",
    "idx_zero = data[data['Purchased'] == 0].index\n",
    "idx_one = data[data['Purchased'] == 1].index\n",
    "\n",
    "plt.figure(figsize=(14,8))\n",
    "plt.title(\"Age/Salary vs ADS Purchase\")\n",
    "plt.plot(data['Age'][idx_zero], data['EstimatedSalary'][idx_zero], 'bo', label='Not Purchased')\n",
    "plt.plot(data['Age'][idx_one], data['EstimatedSalary'][idx_one], 'ro', label='Purchased')\n",
    "plt.ylabel('Estimated Salary')\n",
    "plt.xlabel('Age')\n",
    "plt.legend()\n",
    "plt.show()\n"
   ]
  },
  {
   "cell_type": "code",
   "execution_count": null,
   "id": "d16319e9",
   "metadata": {},
   "outputs": [],
   "source": [
    "def sigmoid(value):\n",
    "    a = np.exp(-value)\n",
    "    return 1.0/ (1.0 + a)\n",
    "def cost_function(theta, x, y):\n",
    "    m = y.shape[0]\n",
    "    theta = theta[:, np.newaxis]\n",
    "    h = sigmoid(x.dot(theta))\n",
    "    J = (1/m)*(-y.T.dot(np.log(h))-(1-y).T.dot(np.log(1-h)))\n",
    "    delta = h - y\n",
    "    grad = (1/m)*delta.T.dot(x) \n",
    "    grad[0,0] = (1/m) * delta.T.dot(x[:,0])\n",
    "    return J, grad[0]\n",
    "\n",
    "def accuracy(y_hat,y):\n",
    "    return np.mean(y_hat == y)\n",
    "age_max = data['Age'].max()\n",
    "\n",
    "salary_std = data['EstimatedSalary'].std()\n",
    "salary_mean = data['EstimatedSalary'].mean()\n",
    "\n",
    "data['Age'] /= age_max\n",
    "data['EstimatedSalary'] = (data['EstimatedSalary'] - salary_mean) / salary_std\n",
    "n_iterations = 100\n",
    "theta = np.random.uniform(-1, 1, (4,1))\n",
    "x = np.hstack((np.ones((data.shape[0],1)),data[['Gender','Age', 'EstimatedSalary']].values))\n",
    "y = np.array(data['Purchased'].values).reshape(-1,1)\n",
    "learning_rate = 0.5"
   ]
  },
  {
   "cell_type": "code",
   "execution_count": null,
   "id": "7911f793",
   "metadata": {},
   "outputs": [],
   "source": [
    "for i in range(n_iterations):\n",
    "    h_x = x.dot(theta)\n",
    "    print(type(h_x))\n",
    "    print(x.shape)\n",
    "    y_pred = sigmoid(h_x)\n",
    "    print(y_pred.shape)\n",
    "    theta_grad = x.T.dot(y_pred - y)\n",
    "    print(theta_grad.shape)\n",
    "    theta = theta - learning_rate * theta_grad\n",
    "    print(theta)"
   ]
  },
  {
   "cell_type": "code",
   "execution_count": null,
   "id": "d05cc1a7",
   "metadata": {},
   "outputs": [],
   "source": [
    "np.shape(theta)"
   ]
  },
  {
   "cell_type": "code",
   "execution_count": null,
   "id": "5130602f",
   "metadata": {},
   "outputs": [],
   "source": [
    "x"
   ]
  },
  {
   "cell_type": "code",
   "execution_count": null,
   "id": "37498e9c",
   "metadata": {},
   "outputs": [],
   "source": [
    "z = sigmoid(x.dot(theta))\n",
    "y_pred = [1 if z[i] >= 0.5 else 0 for i in range(len(z))]\n",
    "#return y_pred\n",
    "#y_pred = predict(theta,x)\n",
    "y_pred"
   ]
  },
  {
   "cell_type": "code",
   "execution_count": null,
   "id": "d404e8c6",
   "metadata": {},
   "outputs": [],
   "source": [
    "acc = np.mean(y_pred==y)\n",
    "print(\"Accuracy:%1.3f\"%acc)"
   ]
  },
  {
   "cell_type": "code",
   "execution_count": null,
   "id": "96a654d3",
   "metadata": {},
   "outputs": [],
   "source": [
    "y"
   ]
  },
  {
   "cell_type": "code",
   "execution_count": null,
   "id": "bae464e4",
   "metadata": {},
   "outputs": [],
   "source": [
    "pred_zero = np.where(np.array(y_pred) == 0)[0].tolist()\n",
    "pred_one = np.where(np.array(y_pred) == 1)[0].tolist()\n",
    "\n",
    "plt.figure(figsize=(14,8))\n",
    "plt.title(\"Age/Salary vs ADS Purchase\")\n",
    "plt.plot(data['Age'][pred_zero], data['EstimatedSalary'][pred_zero], 'bo', label='Not Purchased')\n",
    "plt.plot(data['Age'][pred_one], data['EstimatedSalary'][pred_one], 'ro', label='Purchased')\n",
    "plt.ylabel('Estimated Salary')\n",
    "plt.xlabel('Age')\n",
    "plt.legend()\n",
    "plt.show()"
   ]
  },
  {
   "cell_type": "code",
   "execution_count": null,
   "id": "c7617de1",
   "metadata": {},
   "outputs": [],
   "source": []
  },
  {
   "cell_type": "code",
   "execution_count": null,
   "metadata": {},
   "outputs": [],
   "source": [
    "print(\"A\")"
   ]
  },
  {
   "cell_type": "code",
   "execution_count": null,
   "metadata": {},
   "outputs": [],
   "source": [
    "import numpy as np"
   ]
  }
 ],
 "metadata": {
  "kernelspec": {
   "name": "python3",
   "display_name": "Python 3.9.6 64-bit"
  },
  "language_info": {
   "codemirror_mode": {
    "name": "ipython",
    "version": 3
   },
   "file_extension": ".py",
   "mimetype": "text/x-python",
   "name": "python",
   "nbconvert_exporter": "python",
   "pygments_lexer": "ipython3",
   "version": "3.9.6"
  },
  "interpreter": {
   "hash": "aee8b7b246df8f9039afb4144a1f6fd8d2ca17a180786b69acc140d282b71a49"
  }
 },
 "nbformat": 4,
 "nbformat_minor": 5
}