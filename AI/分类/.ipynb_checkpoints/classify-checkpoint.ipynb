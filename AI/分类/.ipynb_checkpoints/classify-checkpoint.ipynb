{
 "cells": [
  {
   "cell_type": "code",
   "execution_count": 21,
   "id": "d3929dc2",
   "metadata": {},
   "outputs": [],
   "source": [
    "import numpy as np\n",
    "import pandas as pd\n",
    "from matplotlib import pyplot as plt\n",
    "import seaborn as sns"
   ]
  },
  {
   "cell_type": "code",
   "execution_count": 16,
   "id": "ed84f94f",
   "metadata": {},
   "outputs": [],
   "source": [
    "data = pd.read_csv(\"./Social_Network_Ads.csv\")"
   ]
  },
  {
   "cell_type": "code",
   "execution_count": 17,
   "id": "c6791a4a",
   "metadata": {},
   "outputs": [
    {
     "data": {
      "text/html": [
       "<div>\n",
       "<style scoped>\n",
       "    .dataframe tbody tr th:only-of-type {\n",
       "        vertical-align: middle;\n",
       "    }\n",
       "\n",
       "    .dataframe tbody tr th {\n",
       "        vertical-align: top;\n",
       "    }\n",
       "\n",
       "    .dataframe thead th {\n",
       "        text-align: right;\n",
       "    }\n",
       "</style>\n",
       "<table border=\"1\" class=\"dataframe\">\n",
       "  <thead>\n",
       "    <tr style=\"text-align: right;\">\n",
       "      <th></th>\n",
       "      <th>User ID</th>\n",
       "      <th>Gender</th>\n",
       "      <th>Age</th>\n",
       "      <th>EstimatedSalary</th>\n",
       "      <th>Purchased</th>\n",
       "    </tr>\n",
       "  </thead>\n",
       "  <tbody>\n",
       "    <tr>\n",
       "      <th>0</th>\n",
       "      <td>15624510</td>\n",
       "      <td>Male</td>\n",
       "      <td>19</td>\n",
       "      <td>19000</td>\n",
       "      <td>0</td>\n",
       "    </tr>\n",
       "    <tr>\n",
       "      <th>1</th>\n",
       "      <td>15810944</td>\n",
       "      <td>Male</td>\n",
       "      <td>35</td>\n",
       "      <td>20000</td>\n",
       "      <td>0</td>\n",
       "    </tr>\n",
       "    <tr>\n",
       "      <th>2</th>\n",
       "      <td>15668575</td>\n",
       "      <td>Female</td>\n",
       "      <td>26</td>\n",
       "      <td>43000</td>\n",
       "      <td>0</td>\n",
       "    </tr>\n",
       "    <tr>\n",
       "      <th>3</th>\n",
       "      <td>15603246</td>\n",
       "      <td>Female</td>\n",
       "      <td>27</td>\n",
       "      <td>57000</td>\n",
       "      <td>0</td>\n",
       "    </tr>\n",
       "    <tr>\n",
       "      <th>4</th>\n",
       "      <td>15804002</td>\n",
       "      <td>Male</td>\n",
       "      <td>19</td>\n",
       "      <td>76000</td>\n",
       "      <td>0</td>\n",
       "    </tr>\n",
       "  </tbody>\n",
       "</table>\n",
       "</div>"
      ],
      "text/plain": [
       "    User ID  Gender  Age  EstimatedSalary  Purchased\n",
       "0  15624510    Male   19            19000          0\n",
       "1  15810944    Male   35            20000          0\n",
       "2  15668575  Female   26            43000          0\n",
       "3  15603246  Female   27            57000          0\n",
       "4  15804002    Male   19            76000          0"
      ]
     },
     "execution_count": 17,
     "metadata": {},
     "output_type": "execute_result"
    }
   ],
   "source": [
    "data.head()"
   ]
  },
  {
   "cell_type": "markdown",
   "id": "86d95d03",
   "metadata": {},
   "source": [
    "Get some sample data"
   ]
  },
  {
   "cell_type": "code",
   "execution_count": 20,
   "id": "ceb3e96e",
   "metadata": {},
   "outputs": [],
   "source": [
    "change = {'Male':0, 'Famle':1}\n",
    "data.replace(change,inplace = True)"
   ]
  },
  {
   "cell_type": "markdown",
   "id": "b1bdb006",
   "metadata": {},
   "source": [
    "change the gender to the number"
   ]
  },
  {
   "cell_type": "code",
   "execution_count": 23,
   "id": "3db23b81",
   "metadata": {},
   "outputs": [
    {
     "data": {
      "image/png": "[encoded data removed]",
      "text/plain": [
       "<Figure size 432x288 with 1 Axes>"
      ]
     },
     "metadata": {
      "needs_background": "light"
     },
     "output_type": "display_data"
    }
   ],
   "source": [
    "Age_situation = sns.boxplot(x = data['Age'])"
   ]
  },
  {
   "cell_type": "markdown",
   "id": "878344f7",
   "metadata": {},
   "source": [
    "We can see the that there are no outliers in the Age "
   ]
  },
  {
   "cell_type": "code",
   "execution_count": 24,
   "id": "cd7a1e84",
   "metadata": {},
   "outputs": [
    {
     "data": {
      "image/png": "[encoded data removed]",
      "text/plain": [
       "<Figure size 432x288 with 1 Axes>"
      ]
     },
     "metadata": {
      "needs_background": "light"
     },
     "output_type": "display_data"
    }
   ],
   "source": [
    "Salary_situation= sns.boxplot(x=data['EstimatedSalary'])"
   ]
  },
  {
   "cell_type": "markdown",
   "id": "f0e9ca6b",
   "metadata": {},
   "source": [
    "The same with salary,so we do not need to make extra operation.\n"
   ]
  },
  {
   "cell_type": "code",
   "execution_count": 28,
   "id": "d8b111db",
   "metadata": {},
   "outputs": [],
   "source": [
    "zero_index = data[data['Purchased'].isin([0])].index"
   ]
  },
  {
   "cell_type": "code",
   "execution_count": 29,
   "id": "85fc3275",
   "metadata": {},
   "outputs": [
    {
     "data": {
      "text/plain": [
       "Int64Index([  0,   1,   2,   3,   4,   5,   6,   8,   9,  10,\n",
       "            ...\n",
       "            363, 368, 372, 374, 376, 377, 380, 387, 394, 398],\n",
       "           dtype='int64', length=257)"
      ]
     },
     "execution_count": 29,
     "metadata": {},
     "output_type": "execute_result"
    }
   ],
   "source": [
    "zero_index"
   ]
  },
  {
   "cell_type": "code",
   "execution_count": 36,
   "id": "bcee448b",
   "metadata": {},
   "outputs": [
    {
     "data": {
      "text/plain": [
       "Int64Index([  7,  16,  17,  18,  19,  20,  21,  22,  23,  24,\n",
       "            ...\n",
       "            388, 389, 390, 391, 392, 393, 395, 396, 397, 399],\n",
       "           dtype='int64', length=143)"
      ]
     },
     "execution_count": 36,
     "metadata": {},
     "output_type": "execute_result"
    }
   ],
   "source": [
    "one_index = data[data['Purchased'].isin([1])].index\n",
    "one_index"
   ]
  },
  {
   "cell_type": "markdown",
   "id": "2a14b0b9",
   "metadata": {},
   "source": [
    "Now we can see the classify"
   ]
  },
  {
   "cell_type": "code",
   "execution_count": 49,
   "id": "67913929",
   "metadata": {},
   "outputs": [
    {
     "data": {
      "image/png": "[encoded data removed]",
      "text/plain": [
       "<Figure size 1008x576 with 1 Axes>"
      ]
     },
     "metadata": {
      "needs_background": "light"
     },
     "output_type": "display_data"
    }
   ],
   "source": [
    "# indexes for purchased\n",
    "idx_zero = data[data['Purchased'] == 0].index\n",
    "idx_one = data[data['Purchased'] == 1].index\n",
    "\n",
    "plt.figure(figsize=(14,8))\n",
    "plt.title(\"Age/Salary vs ADS Purchase\")\n",
    "plt.plot(data['Age'][idx_zero], data['EstimatedSalary'][idx_zero], 'bo', label='Not Purchased')\n",
    "plt.plot(data['Age'][idx_one], data['EstimatedSalary'][idx_one], 'ro', label='Purchased')\n",
    "plt.ylabel('Estimated Salary')\n",
    "plt.xlabel('Age')\n",
    "plt.legend()\n",
    "plt.show()\n"
   ]
  },
  {
   "cell_type": "code",
   "execution_count": null,
   "id": "08e7b725",
   "metadata": {},
   "outputs": [],
   "source": [
    "def sigmoid(x):\n",
    "    return 1./(1. + np.exp(-x))\n",
    "\n",
    "def cost_function(theta, x, y):\n",
    "    m = y.shape[0]\n",
    "    theta = theta[:, np.newaxis]\n",
    "    h = sigmoid(x.dot(theta))\n",
    "    J = (1/m)*(-y.T.dot(np.log(h))-(1-y).T.dot(np.log(1-h)))\n",
    "    delta = h - y\n",
    "    grad = (1/m)*dl.T.dot(x) \n",
    "    grad[0,0] = (1/m) * dl.T.dot(x[:,0])\n",
    "    return j, grad[0]\n",
    "\n",
    "def predict(x,theta):\n",
    "    z = sigmoid(x.dot(theta))\n",
    "    y_pred = [1 if z[i] >= 0.5 else 0 for i in range(len(z))]\n",
    "    return y_pred\n",
    "\n",
    "def accuracy(y_hat,y):\n",
    "    return np.mean(y_hat == y)\n"
   ]
  },
  {
   "cell_type": "code",
   "execution_count": null,
   "id": "3e202704",
   "metadata": {},
   "outputs": [],
   "source": []
  }
 ],
 "metadata": {
  "kernelspec": {
   "display_name": "Python 3 (ipykernel)",
   "language": "python",
   "name": "python3"
  },
  "language_info": {
   "codemirror_mode": {
    "name": "ipython",
    "version": 3
   },
   "file_extension": ".py",
   "mimetype": "text/x-python",
   "name": "python",
   "nbconvert_exporter": "python",
   "pygments_lexer": "ipython3",
   "version": "3.9.6"
  }
 },
 "nbformat": 4,
 "nbformat_minor": 5
}
